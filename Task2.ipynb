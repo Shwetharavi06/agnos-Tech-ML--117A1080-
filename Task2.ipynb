{
 "cells": [
  {
   "cell_type": "markdown",
   "metadata": {},
   "source": [
    "# Analysis of Sentiment"
   ]
  },
  {
   "cell_type": "markdown",
   "metadata": {},
   "source": [
    "#### Importing libraries"
   ]
  },
  {
   "cell_type": "code",
   "execution_count": 1,
   "metadata": {},
   "outputs": [],
   "source": [
    "import pandas as pd\n",
    "import numpy as np"
   ]
  },
  {
   "cell_type": "markdown",
   "metadata": {},
   "source": [
    "#### Reading the files of consumer_reviews and validation in csv"
   ]
  },
  {
   "cell_type": "code",
   "execution_count": 61,
   "metadata": {},
   "outputs": [],
   "source": [
    "s=pd.read_csv(\"/home/shwetha/Downloads/consumer_reviews.csv\")\n",
    "k=pd.read_csv(\"/home/shwetha/Downloads/validation.csv\")"
   ]
  },
  {
   "cell_type": "markdown",
   "metadata": {},
   "source": [
    "### #Since reviews.tile does not affect the ratings in validation file we drop reviews.title"
   ]
  },
  {
   "cell_type": "code",
   "execution_count": 62,
   "metadata": {},
   "outputs": [
    {
     "data": {
      "text/html": [
       "<div>\n",
       "<style scoped>\n",
       "    .dataframe tbody tr th:only-of-type {\n",
       "        vertical-align: middle;\n",
       "    }\n",
       "\n",
       "    .dataframe tbody tr th {\n",
       "        vertical-align: top;\n",
       "    }\n",
       "\n",
       "    .dataframe thead th {\n",
       "        text-align: right;\n",
       "    }\n",
       "</style>\n",
       "<table border=\"1\" class=\"dataframe\">\n",
       "  <thead>\n",
       "    <tr style=\"text-align: right;\">\n",
       "      <th></th>\n",
       "      <th>reviews.rating</th>\n",
       "      <th>reviews.text</th>\n",
       "    </tr>\n",
       "  </thead>\n",
       "  <tbody>\n",
       "    <tr>\n",
       "      <th>0</th>\n",
       "      <td>5.0</td>\n",
       "      <td>I realize that many people will believe that t...</td>\n",
       "    </tr>\n",
       "    <tr>\n",
       "      <th>1</th>\n",
       "      <td>5.0</td>\n",
       "      <td>Great tablet from Amazon! I works quickly and ...</td>\n",
       "    </tr>\n",
       "    <tr>\n",
       "      <th>2</th>\n",
       "      <td>5.0</td>\n",
       "      <td>This is my very first kindle. I am enjoying re...</td>\n",
       "    </tr>\n",
       "    <tr>\n",
       "      <th>3</th>\n",
       "      <td>5.0</td>\n",
       "      <td>Small and light weight. Even in a leather case...</td>\n",
       "    </tr>\n",
       "    <tr>\n",
       "      <th>4</th>\n",
       "      <td>5.0</td>\n",
       "      <td>Easy to use for books and audio. Will use on v...</td>\n",
       "    </tr>\n",
       "    <tr>\n",
       "      <th>5</th>\n",
       "      <td>5.0</td>\n",
       "      <td>Works as it should, this was a replacement of ...</td>\n",
       "    </tr>\n",
       "    <tr>\n",
       "      <th>6</th>\n",
       "      <td>2.0</td>\n",
       "      <td>Hard to use, Lots of ads, and Randomly closes ...</td>\n",
       "    </tr>\n",
       "    <tr>\n",
       "      <th>7</th>\n",
       "      <td>3.0</td>\n",
       "      <td>I'm mostly happy, but like so many electronics...</td>\n",
       "    </tr>\n",
       "    <tr>\n",
       "      <th>8</th>\n",
       "      <td>3.0</td>\n",
       "      <td>After the initial trial questions found our Al...</td>\n",
       "    </tr>\n",
       "    <tr>\n",
       "      <th>9</th>\n",
       "      <td>5.0</td>\n",
       "      <td>I brought 3 of them. 2 were gifts. We love the...</td>\n",
       "    </tr>\n",
       "    <tr>\n",
       "      <th>10</th>\n",
       "      <td>5.0</td>\n",
       "      <td>Nice little tablet and the price was perfect. ...</td>\n",
       "    </tr>\n",
       "    <tr>\n",
       "      <th>11</th>\n",
       "      <td>5.0</td>\n",
       "      <td>Love the echo! Great voice recognition and ver...</td>\n",
       "    </tr>\n",
       "    <tr>\n",
       "      <th>12</th>\n",
       "      <td>4.0</td>\n",
       "      <td>Amazon fire connected with Overdrive,Kindle an...</td>\n",
       "    </tr>\n",
       "    <tr>\n",
       "      <th>13</th>\n",
       "      <td>4.0</td>\n",
       "      <td>Works great, good value. Only problem is displ...</td>\n",
       "    </tr>\n",
       "    <tr>\n",
       "      <th>14</th>\n",
       "      <td>5.0</td>\n",
       "      <td>This was the perfect tablet for my wife for Ch...</td>\n",
       "    </tr>\n",
       "    <tr>\n",
       "      <th>15</th>\n",
       "      <td>5.0</td>\n",
       "      <td>love this tablet, I would so recommend this fo...</td>\n",
       "    </tr>\n",
       "    <tr>\n",
       "      <th>16</th>\n",
       "      <td>5.0</td>\n",
       "      <td>Works great and constantly updated and improvi...</td>\n",
       "    </tr>\n",
       "    <tr>\n",
       "      <th>17</th>\n",
       "      <td>4.0</td>\n",
       "      <td>Light weight is great. Screen is a little too ...</td>\n",
       "    </tr>\n",
       "    <tr>\n",
       "      <th>18</th>\n",
       "      <td>5.0</td>\n",
       "      <td>Went in for the firetvstick but left with this...</td>\n",
       "    </tr>\n",
       "    <tr>\n",
       "      <th>19</th>\n",
       "      <td>5.0</td>\n",
       "      <td>Second generation Kindle finally died, and alr...</td>\n",
       "    </tr>\n",
       "    <tr>\n",
       "      <th>20</th>\n",
       "      <td>3.0</td>\n",
       "      <td>Nice sound quality and connects to my iPhone. ...</td>\n",
       "    </tr>\n",
       "    <tr>\n",
       "      <th>21</th>\n",
       "      <td>5.0</td>\n",
       "      <td>I can lock the screen so he can't mess anythin...</td>\n",
       "    </tr>\n",
       "    <tr>\n",
       "      <th>22</th>\n",
       "      <td>5.0</td>\n",
       "      <td>I bought this for a family member with a disab...</td>\n",
       "    </tr>\n",
       "    <tr>\n",
       "      <th>23</th>\n",
       "      <td>4.0</td>\n",
       "      <td>Great for cord cutting. Just needs a little cl...</td>\n",
       "    </tr>\n",
       "    <tr>\n",
       "      <th>24</th>\n",
       "      <td>5.0</td>\n",
       "      <td>Highly impressed with my purchase. Allows me t...</td>\n",
       "    </tr>\n",
       "    <tr>\n",
       "      <th>25</th>\n",
       "      <td>5.0</td>\n",
       "      <td>Love this device for reading. I travel for a l...</td>\n",
       "    </tr>\n",
       "    <tr>\n",
       "      <th>26</th>\n",
       "      <td>4.0</td>\n",
       "      <td>Compact, Fast, Reliable .... Very GoodI am not...</td>\n",
       "    </tr>\n",
       "    <tr>\n",
       "      <th>27</th>\n",
       "      <td>5.0</td>\n",
       "      <td>I love the echo as you can do many cool things...</td>\n",
       "    </tr>\n",
       "    <tr>\n",
       "      <th>28</th>\n",
       "      <td>5.0</td>\n",
       "      <td>The Kindle Fire is a great tablet for the pric...</td>\n",
       "    </tr>\n",
       "    <tr>\n",
       "      <th>29</th>\n",
       "      <td>5.0</td>\n",
       "      <td>Excellent alternative to paying the big compan...</td>\n",
       "    </tr>\n",
       "    <tr>\n",
       "      <th>...</th>\n",
       "      <td>...</td>\n",
       "      <td>...</td>\n",
       "    </tr>\n",
       "    <tr>\n",
       "      <th>19970</th>\n",
       "      <td>4.0</td>\n",
       "      <td>Functions as its supposed to good deal. Great ...</td>\n",
       "    </tr>\n",
       "    <tr>\n",
       "      <th>19971</th>\n",
       "      <td>3.0</td>\n",
       "      <td>Should of did a little more research. Do not l...</td>\n",
       "    </tr>\n",
       "    <tr>\n",
       "      <th>19972</th>\n",
       "      <td>5.0</td>\n",
       "      <td>This is my second Amazon Fire TV. This is the ...</td>\n",
       "    </tr>\n",
       "    <tr>\n",
       "      <th>19973</th>\n",
       "      <td>5.0</td>\n",
       "      <td>We love the shopping list feature. The timer i...</td>\n",
       "    </tr>\n",
       "    <tr>\n",
       "      <th>19974</th>\n",
       "      <td>5.0</td>\n",
       "      <td>I have 2 firestick and now the fire tv..i have...</td>\n",
       "    </tr>\n",
       "    <tr>\n",
       "      <th>19975</th>\n",
       "      <td>5.0</td>\n",
       "      <td>I bought this as a gift for my wife along with...</td>\n",
       "    </tr>\n",
       "    <tr>\n",
       "      <th>19976</th>\n",
       "      <td>5.0</td>\n",
       "      <td>Works very well for children and people of all...</td>\n",
       "    </tr>\n",
       "    <tr>\n",
       "      <th>19977</th>\n",
       "      <td>5.0</td>\n",
       "      <td>Friends were pleased with gift will be buying ...</td>\n",
       "    </tr>\n",
       "    <tr>\n",
       "      <th>19978</th>\n",
       "      <td>5.0</td>\n",
       "      <td>this was such a super deal i bought 2. they wo...</td>\n",
       "    </tr>\n",
       "    <tr>\n",
       "      <th>19979</th>\n",
       "      <td>4.0</td>\n",
       "      <td>I originally bought this tablet for myself. Bu...</td>\n",
       "    </tr>\n",
       "    <tr>\n",
       "      <th>19980</th>\n",
       "      <td>4.0</td>\n",
       "      <td>Good tablet for the price, it's gonna be a goo...</td>\n",
       "    </tr>\n",
       "    <tr>\n",
       "      <th>19981</th>\n",
       "      <td>4.0</td>\n",
       "      <td>i can allow kids what i want them to read or p...</td>\n",
       "    </tr>\n",
       "    <tr>\n",
       "      <th>19982</th>\n",
       "      <td>5.0</td>\n",
       "      <td>I bought it for my grand daughter, she knew ho...</td>\n",
       "    </tr>\n",
       "    <tr>\n",
       "      <th>19983</th>\n",
       "      <td>5.0</td>\n",
       "      <td>Really loving the Fitbit Blaze so far. It remi...</td>\n",
       "    </tr>\n",
       "    <tr>\n",
       "      <th>19984</th>\n",
       "      <td>4.0</td>\n",
       "      <td>This is great tablet for reading purpose. Easy...</td>\n",
       "    </tr>\n",
       "    <tr>\n",
       "      <th>19985</th>\n",
       "      <td>5.0</td>\n",
       "      <td>One my favorite color ..................:.::::...</td>\n",
       "    </tr>\n",
       "    <tr>\n",
       "      <th>19986</th>\n",
       "      <td>5.0</td>\n",
       "      <td>I have several of the fire sticks. This is fas...</td>\n",
       "    </tr>\n",
       "    <tr>\n",
       "      <th>19987</th>\n",
       "      <td>5.0</td>\n",
       "      <td>Got this item for my 10 yr old son , easy to n...</td>\n",
       "    </tr>\n",
       "    <tr>\n",
       "      <th>19988</th>\n",
       "      <td>5.0</td>\n",
       "      <td>This tablet is inexpensive and user friendly f...</td>\n",
       "    </tr>\n",
       "    <tr>\n",
       "      <th>19989</th>\n",
       "      <td>4.0</td>\n",
       "      <td>Very cool. NOTE: much cooler if you have amazo...</td>\n",
       "    </tr>\n",
       "    <tr>\n",
       "      <th>19990</th>\n",
       "      <td>5.0</td>\n",
       "      <td>Bought this for my mom. She mostly plays games...</td>\n",
       "    </tr>\n",
       "    <tr>\n",
       "      <th>19991</th>\n",
       "      <td>5.0</td>\n",
       "      <td>Amazon has this one perfect. The backlight mak...</td>\n",
       "    </tr>\n",
       "    <tr>\n",
       "      <th>19992</th>\n",
       "      <td>5.0</td>\n",
       "      <td>It is a very good product with great quality. ...</td>\n",
       "    </tr>\n",
       "    <tr>\n",
       "      <th>19993</th>\n",
       "      <td>5.0</td>\n",
       "      <td>I really am enjoying the echo, it seems like I...</td>\n",
       "    </tr>\n",
       "    <tr>\n",
       "      <th>19994</th>\n",
       "      <td>5.0</td>\n",
       "      <td>I bought 2 of these for my niece &amp; nephew! The...</td>\n",
       "    </tr>\n",
       "    <tr>\n",
       "      <th>19995</th>\n",
       "      <td>5.0</td>\n",
       "      <td>Entertainment or the quiet times you love. Per...</td>\n",
       "    </tr>\n",
       "    <tr>\n",
       "      <th>19996</th>\n",
       "      <td>4.0</td>\n",
       "      <td>Great little tablet, especially for the price!...</td>\n",
       "    </tr>\n",
       "    <tr>\n",
       "      <th>19997</th>\n",
       "      <td>4.0</td>\n",
       "      <td>Very happy customer. My daughter loves using t...</td>\n",
       "    </tr>\n",
       "    <tr>\n",
       "      <th>19998</th>\n",
       "      <td>5.0</td>\n",
       "      <td>Bought for my 9 yr old. He loves it. Easy to u...</td>\n",
       "    </tr>\n",
       "    <tr>\n",
       "      <th>19999</th>\n",
       "      <td>5.0</td>\n",
       "      <td>much faster than previous model, screen is sup...</td>\n",
       "    </tr>\n",
       "  </tbody>\n",
       "</table>\n",
       "<p>20000 rows × 2 columns</p>\n",
       "</div>"
      ],
      "text/plain": [
       "       reviews.rating                                       reviews.text\n",
       "0                 5.0  I realize that many people will believe that t...\n",
       "1                 5.0  Great tablet from Amazon! I works quickly and ...\n",
       "2                 5.0  This is my very first kindle. I am enjoying re...\n",
       "3                 5.0  Small and light weight. Even in a leather case...\n",
       "4                 5.0  Easy to use for books and audio. Will use on v...\n",
       "5                 5.0  Works as it should, this was a replacement of ...\n",
       "6                 2.0  Hard to use, Lots of ads, and Randomly closes ...\n",
       "7                 3.0  I'm mostly happy, but like so many electronics...\n",
       "8                 3.0  After the initial trial questions found our Al...\n",
       "9                 5.0  I brought 3 of them. 2 were gifts. We love the...\n",
       "10                5.0  Nice little tablet and the price was perfect. ...\n",
       "11                5.0  Love the echo! Great voice recognition and ver...\n",
       "12                4.0  Amazon fire connected with Overdrive,Kindle an...\n",
       "13                4.0  Works great, good value. Only problem is displ...\n",
       "14                5.0  This was the perfect tablet for my wife for Ch...\n",
       "15                5.0  love this tablet, I would so recommend this fo...\n",
       "16                5.0  Works great and constantly updated and improvi...\n",
       "17                4.0  Light weight is great. Screen is a little too ...\n",
       "18                5.0  Went in for the firetvstick but left with this...\n",
       "19                5.0  Second generation Kindle finally died, and alr...\n",
       "20                3.0  Nice sound quality and connects to my iPhone. ...\n",
       "21                5.0  I can lock the screen so he can't mess anythin...\n",
       "22                5.0  I bought this for a family member with a disab...\n",
       "23                4.0  Great for cord cutting. Just needs a little cl...\n",
       "24                5.0  Highly impressed with my purchase. Allows me t...\n",
       "25                5.0  Love this device for reading. I travel for a l...\n",
       "26                4.0  Compact, Fast, Reliable .... Very GoodI am not...\n",
       "27                5.0  I love the echo as you can do many cool things...\n",
       "28                5.0  The Kindle Fire is a great tablet for the pric...\n",
       "29                5.0  Excellent alternative to paying the big compan...\n",
       "...               ...                                                ...\n",
       "19970             4.0  Functions as its supposed to good deal. Great ...\n",
       "19971             3.0  Should of did a little more research. Do not l...\n",
       "19972             5.0  This is my second Amazon Fire TV. This is the ...\n",
       "19973             5.0  We love the shopping list feature. The timer i...\n",
       "19974             5.0  I have 2 firestick and now the fire tv..i have...\n",
       "19975             5.0  I bought this as a gift for my wife along with...\n",
       "19976             5.0  Works very well for children and people of all...\n",
       "19977             5.0  Friends were pleased with gift will be buying ...\n",
       "19978             5.0  this was such a super deal i bought 2. they wo...\n",
       "19979             4.0  I originally bought this tablet for myself. Bu...\n",
       "19980             4.0  Good tablet for the price, it's gonna be a goo...\n",
       "19981             4.0  i can allow kids what i want them to read or p...\n",
       "19982             5.0  I bought it for my grand daughter, she knew ho...\n",
       "19983             5.0  Really loving the Fitbit Blaze so far. It remi...\n",
       "19984             4.0  This is great tablet for reading purpose. Easy...\n",
       "19985             5.0  One my favorite color ..................:.::::...\n",
       "19986             5.0  I have several of the fire sticks. This is fas...\n",
       "19987             5.0  Got this item for my 10 yr old son , easy to n...\n",
       "19988             5.0  This tablet is inexpensive and user friendly f...\n",
       "19989             4.0  Very cool. NOTE: much cooler if you have amazo...\n",
       "19990             5.0  Bought this for my mom. She mostly plays games...\n",
       "19991             5.0  Amazon has this one perfect. The backlight mak...\n",
       "19992             5.0  It is a very good product with great quality. ...\n",
       "19993             5.0  I really am enjoying the echo, it seems like I...\n",
       "19994             5.0  I bought 2 of these for my niece & nephew! The...\n",
       "19995             5.0  Entertainment or the quiet times you love. Per...\n",
       "19996             4.0  Great little tablet, especially for the price!...\n",
       "19997             4.0  Very happy customer. My daughter loves using t...\n",
       "19998             5.0  Bought for my 9 yr old. He loves it. Easy to u...\n",
       "19999             5.0  much faster than previous model, screen is sup...\n",
       "\n",
       "[20000 rows x 2 columns]"
      ]
     },
     "execution_count": 62,
     "metadata": {},
     "output_type": "execute_result"
    }
   ],
   "source": [
    "ks=k.drop([\"reviews.title\"],axis=1)\n",
    "ks"
   ]
  },
  {
   "cell_type": "markdown",
   "metadata": {},
   "source": [
    "#### Same goes for the consumer_review where sub,primary categories and review does not affect the target hence we drop it."
   ]
  },
  {
   "cell_type": "code",
   "execution_count": null,
   "metadata": {},
   "outputs": [],
   "source": [
    "ns=s.drop([\"sub-categories\",\"primary-categories\",\"reviews\"],axis=1)"
   ]
  },
  {
   "cell_type": "markdown",
   "metadata": {},
   "source": [
    "# Pre-processing"
   ]
  },
  {
   "cell_type": "markdown",
   "metadata": {},
   "source": [
    "##### Importing the Preprocessing pipeline for processing documents with Gensim. It easily manages text data to format data frames, run classification, etc. "
   ]
  },
  {
   "cell_type": "code",
   "execution_count": 5,
   "metadata": {},
   "outputs": [],
   "source": [
    "import gensim\n",
    "from gensim.parsing.preprocessing import strip_numeric \n",
    "from gensim.parsing.preprocessing import strip_non_alphanum\n",
    "from gensim.parsing.preprocessing import strip_punctuation\n",
    "from gensim.parsing.preprocessing import strip_punctuation2\n",
    "from gensim.parsing.preprocessing import strip_multiple_whitespaces\n",
    "from gensim.parsing.preprocessing import strip_tags\n",
    "#from gensim.parsing.preprocessing import stem_text\n",
    "from gensim.parsing.preprocessing import preprocess_string"
   ]
  },
  {
   "cell_type": "code",
   "execution_count": 6,
   "metadata": {},
   "outputs": [],
   "source": [
    "filters=[strip_numeric,strip_multiple_whitespaces,strip_non_alphanum,strip_punctuation,strip_punctuation,strip_punctuation2,strip_tags]"
   ]
  },
  {
   "cell_type": "markdown",
   "metadata": {},
   "source": [
    "# Data Cleaning"
   ]
  },
  {
   "cell_type": "code",
   "execution_count": 7,
   "metadata": {},
   "outputs": [],
   "source": [
    "def clean(string):\n",
    "  words=preprocess_string(string,filters)\n",
    "  return \" \".join(word.lower() for word in words)"
   ]
  },
  {
   "cell_type": "code",
   "execution_count": 10,
   "metadata": {},
   "outputs": [],
   "source": [
    "cl=[]\n",
    "for i in ns[\"title\"]:\n",
    "  cl.append(clean(i))\n",
    "ns[\"clean\"]=cl\n",
    "ck=[]\n",
    "for i in ks[\"reviews.text\"]:\n",
    "    ck.append(clean(i))\n",
    "ks[\"clean\"]=ck\n"
   ]
  },
  {
   "cell_type": "markdown",
   "metadata": {},
   "source": [
    "#### We convert the review.rating to binary nos. so as to show negative (0) or positive (1)"
   ]
  },
  {
   "cell_type": "code",
   "execution_count": 11,
   "metadata": {},
   "outputs": [],
   "source": [
    "t=[]\n",
    "for x in ks[\"reviews.rating\"]:\n",
    "    if x==5.0:\n",
    "        t.append(0)\n",
    "    else:\n",
    "        t.append(1)\n",
    "ks[\"reviews.rating\"]=t\n",
    "ytest=ks[\"reviews.rating\"]"
   ]
  },
  {
   "cell_type": "code",
   "execution_count": 12,
   "metadata": {},
   "outputs": [],
   "source": [
    "gs=ns.drop(\"title\",axis=1)"
   ]
  },
  {
   "cell_type": "markdown",
   "metadata": {},
   "source": [
    "### Converting ratings in to binary "
   ]
  },
  {
   "cell_type": "code",
   "execution_count": 13,
   "metadata": {},
   "outputs": [
    {
     "data": {
      "text/html": [
       "<div>\n",
       "<style scoped>\n",
       "    .dataframe tbody tr th:only-of-type {\n",
       "        vertical-align: middle;\n",
       "    }\n",
       "\n",
       "    .dataframe tbody tr th {\n",
       "        vertical-align: top;\n",
       "    }\n",
       "\n",
       "    .dataframe thead th {\n",
       "        text-align: right;\n",
       "    }\n",
       "</style>\n",
       "<table border=\"1\" class=\"dataframe\">\n",
       "  <thead>\n",
       "    <tr style=\"text-align: right;\">\n",
       "      <th></th>\n",
       "      <th>rating</th>\n",
       "      <th>title</th>\n",
       "      <th>clean</th>\n",
       "    </tr>\n",
       "  </thead>\n",
       "  <tbody>\n",
       "    <tr>\n",
       "      <th>0</th>\n",
       "      <td>0</td>\n",
       "      <td>... 3 of them and one of the item is bad quali...</td>\n",
       "      <td>of them and one of the item is bad quality is ...</td>\n",
       "    </tr>\n",
       "    <tr>\n",
       "      <th>1</th>\n",
       "      <td>1</td>\n",
       "      <td>... always the less expensive way to go for pr...</td>\n",
       "      <td>always the less expensive way to go for produc...</td>\n",
       "    </tr>\n",
       "    <tr>\n",
       "      <th>2</th>\n",
       "      <td>1</td>\n",
       "      <td>... are not Duracell but for the price i am ha...</td>\n",
       "      <td>are not duracell but for the price i am happy</td>\n",
       "    </tr>\n",
       "    <tr>\n",
       "      <th>3</th>\n",
       "      <td>1</td>\n",
       "      <td>... as well as name brand batteries at a much ...</td>\n",
       "      <td>as well as name brand batteries at a much better</td>\n",
       "    </tr>\n",
       "    <tr>\n",
       "      <th>4</th>\n",
       "      <td>1</td>\n",
       "      <td>... batteries are very long lasting the price ...</td>\n",
       "      <td>batteries are very long lasting the price is g...</td>\n",
       "    </tr>\n",
       "    <tr>\n",
       "      <th>5</th>\n",
       "      <td>1</td>\n",
       "      <td>... batteries for Christmas and the AmazonBasi...</td>\n",
       "      <td>batteries for christmas and the amazonbasics c...</td>\n",
       "    </tr>\n",
       "    <tr>\n",
       "      <th>6</th>\n",
       "      <td>1</td>\n",
       "      <td>... batteries have ordered them in the past be...</td>\n",
       "      <td>batteries have ordered them in the past been v...</td>\n",
       "    </tr>\n",
       "    <tr>\n",
       "      <th>7</th>\n",
       "      <td>1</td>\n",
       "      <td>... batteries that last quite a while then the...</td>\n",
       "      <td>batteries that last quite a while then these a...</td>\n",
       "    </tr>\n",
       "    <tr>\n",
       "      <th>8</th>\n",
       "      <td>0</td>\n",
       "      <td>... do not hold the amount of high power juice...</td>\n",
       "      <td>do not hold the amount of high power juice lik...</td>\n",
       "    </tr>\n",
       "    <tr>\n",
       "      <th>9</th>\n",
       "      <td>1</td>\n",
       "      <td>... done well by me appear to have a good shel...</td>\n",
       "      <td>done well by me appear to have a good shelf life</td>\n",
       "    </tr>\n",
       "    <tr>\n",
       "      <th>10</th>\n",
       "      <td>1</td>\n",
       "      <td>... find amazon basics batteries to be equal i...</td>\n",
       "      <td>find amazon basics batteries to be equal if no...</td>\n",
       "    </tr>\n",
       "    <tr>\n",
       "      <th>11</th>\n",
       "      <td>0</td>\n",
       "      <td>... first started getting the Amazon basic bat...</td>\n",
       "      <td>first started getting the amazon basic batteri...</td>\n",
       "    </tr>\n",
       "    <tr>\n",
       "      <th>12</th>\n",
       "      <td>1</td>\n",
       "      <td>... for my fish tank's light at night and work...</td>\n",
       "      <td>for my fish tank s light at night and works gr...</td>\n",
       "    </tr>\n",
       "    <tr>\n",
       "      <th>13</th>\n",
       "      <td>1</td>\n",
       "      <td>... got em so I can't really comment on how go...</td>\n",
       "      <td>got em so i can t really comment on how good t...</td>\n",
       "    </tr>\n",
       "    <tr>\n",
       "      <th>14</th>\n",
       "      <td>1</td>\n",
       "      <td>... have many things that need aa battery they...</td>\n",
       "      <td>have many things that need aa battery they are...</td>\n",
       "    </tr>\n",
       "    <tr>\n",
       "      <th>15</th>\n",
       "      <td>1</td>\n",
       "      <td>... I was able to find on Amazon for a great p...</td>\n",
       "      <td>i was able to find on amazon for a great price...</td>\n",
       "    </tr>\n",
       "    <tr>\n",
       "      <th>16</th>\n",
       "      <td>0</td>\n",
       "      <td>... know if I would buy thus brand again seems...</td>\n",
       "      <td>know if i would buy thus brand again seems lik...</td>\n",
       "    </tr>\n",
       "    <tr>\n",
       "      <th>17</th>\n",
       "      <td>0</td>\n",
       "      <td>... last anywhere near as long as Duracel in t...</td>\n",
       "      <td>last anywhere near as long as duracel in thing...</td>\n",
       "    </tr>\n",
       "    <tr>\n",
       "      <th>18</th>\n",
       "      <td>1</td>\n",
       "      <td>... last as long as the brand name but are goo...</td>\n",
       "      <td>last as long as the brand name but are good en...</td>\n",
       "    </tr>\n",
       "    <tr>\n",
       "      <th>19</th>\n",
       "      <td>0</td>\n",
       "      <td>... my Christmas gifts the month of (december)...</td>\n",
       "      <td>my christmas gifts the month of december only ...</td>\n",
       "    </tr>\n",
       "    <tr>\n",
       "      <th>20</th>\n",
       "      <td>1</td>\n",
       "      <td>... my second order and they seem to work as g...</td>\n",
       "      <td>my second order and they seem to work as good ...</td>\n",
       "    </tr>\n",
       "    <tr>\n",
       "      <th>21</th>\n",
       "      <td>1</td>\n",
       "      <td>... my second purchase of amazon batteries and...</td>\n",
       "      <td>my second purchase of amazon batteries and the...</td>\n",
       "    </tr>\n",
       "    <tr>\n",
       "      <th>22</th>\n",
       "      <td>1</td>\n",
       "      <td>... my Xbox one controllers and none of them e...</td>\n",
       "      <td>my xbox one controllers and none of them explo...</td>\n",
       "    </tr>\n",
       "    <tr>\n",
       "      <th>23</th>\n",
       "      <td>1</td>\n",
       "      <td>... not last as long as other name brand names...</td>\n",
       "      <td>not last as long as other name brand names dis...</td>\n",
       "    </tr>\n",
       "    <tr>\n",
       "      <th>24</th>\n",
       "      <td>0</td>\n",
       "      <td>... not last long at all very cheap batteries ...</td>\n",
       "      <td>not last long at all very cheap batteries no h...</td>\n",
       "    </tr>\n",
       "    <tr>\n",
       "      <th>25</th>\n",
       "      <td>1</td>\n",
       "      <td>... not used yet but a battery is a battery go...</td>\n",
       "      <td>not used yet but a battery is a battery good p...</td>\n",
       "    </tr>\n",
       "    <tr>\n",
       "      <th>26</th>\n",
       "      <td>1</td>\n",
       "      <td>... of batteries that were not as strong or we...</td>\n",
       "      <td>of batteries that were not as strong or were p...</td>\n",
       "    </tr>\n",
       "    <tr>\n",
       "      <th>27</th>\n",
       "      <td>1</td>\n",
       "      <td>... ordered these a few times cause we've been...</td>\n",
       "      <td>ordered these a few times cause we ve been so ...</td>\n",
       "    </tr>\n",
       "    <tr>\n",
       "      <th>28</th>\n",
       "      <td>1</td>\n",
       "      <td>... THEM BUT HOPEFULLY ALL OF THEM WILL REMAIN...</td>\n",
       "      <td>them but hopefully all of them will remain in ...</td>\n",
       "    </tr>\n",
       "    <tr>\n",
       "      <th>29</th>\n",
       "      <td>0</td>\n",
       "      <td>... there to fit the light when they arrived a...</td>\n",
       "      <td>there to fit the light when they arrived and n...</td>\n",
       "    </tr>\n",
       "    <tr>\n",
       "      <th>...</th>\n",
       "      <td>...</td>\n",
       "      <td>...</td>\n",
       "      <td>...</td>\n",
       "    </tr>\n",
       "    <tr>\n",
       "      <th>28302</th>\n",
       "      <td>1</td>\n",
       "      <td>Works great</td>\n",
       "      <td>works great</td>\n",
       "    </tr>\n",
       "    <tr>\n",
       "      <th>28303</th>\n",
       "      <td>1</td>\n",
       "      <td>Works great</td>\n",
       "      <td>works great</td>\n",
       "    </tr>\n",
       "    <tr>\n",
       "      <th>28304</th>\n",
       "      <td>1</td>\n",
       "      <td>works great</td>\n",
       "      <td>works great</td>\n",
       "    </tr>\n",
       "    <tr>\n",
       "      <th>28305</th>\n",
       "      <td>1</td>\n",
       "      <td>Works great</td>\n",
       "      <td>works great</td>\n",
       "    </tr>\n",
       "    <tr>\n",
       "      <th>28306</th>\n",
       "      <td>1</td>\n",
       "      <td>Works great</td>\n",
       "      <td>works great</td>\n",
       "    </tr>\n",
       "    <tr>\n",
       "      <th>28307</th>\n",
       "      <td>1</td>\n",
       "      <td>Works great</td>\n",
       "      <td>works great</td>\n",
       "    </tr>\n",
       "    <tr>\n",
       "      <th>28308</th>\n",
       "      <td>1</td>\n",
       "      <td>Works great for classes</td>\n",
       "      <td>works great for classes</td>\n",
       "    </tr>\n",
       "    <tr>\n",
       "      <th>28309</th>\n",
       "      <td>1</td>\n",
       "      <td>Works great for my 6 yr old</td>\n",
       "      <td>works great for my yr old</td>\n",
       "    </tr>\n",
       "    <tr>\n",
       "      <th>28310</th>\n",
       "      <td>1</td>\n",
       "      <td>works great for my dad</td>\n",
       "      <td>works great for my dad</td>\n",
       "    </tr>\n",
       "    <tr>\n",
       "      <th>28311</th>\n",
       "      <td>1</td>\n",
       "      <td>Works great for what I need.</td>\n",
       "      <td>works great for what i need</td>\n",
       "    </tr>\n",
       "    <tr>\n",
       "      <th>28312</th>\n",
       "      <td>1</td>\n",
       "      <td>works great, but.....</td>\n",
       "      <td>works great but</td>\n",
       "    </tr>\n",
       "    <tr>\n",
       "      <th>28313</th>\n",
       "      <td>1</td>\n",
       "      <td>works great.</td>\n",
       "      <td>works great</td>\n",
       "    </tr>\n",
       "    <tr>\n",
       "      <th>28314</th>\n",
       "      <td>1</td>\n",
       "      <td>works grood</td>\n",
       "      <td>works grood</td>\n",
       "    </tr>\n",
       "    <tr>\n",
       "      <th>28315</th>\n",
       "      <td>1</td>\n",
       "      <td>Works pretty good for a great price</td>\n",
       "      <td>works pretty good for a great price</td>\n",
       "    </tr>\n",
       "    <tr>\n",
       "      <th>28316</th>\n",
       "      <td>1</td>\n",
       "      <td>works very well. much better than the old \"fire\"</td>\n",
       "      <td>works very well much better than the old fire</td>\n",
       "    </tr>\n",
       "    <tr>\n",
       "      <th>28317</th>\n",
       "      <td>1</td>\n",
       "      <td>works well</td>\n",
       "      <td>works well</td>\n",
       "    </tr>\n",
       "    <tr>\n",
       "      <th>28318</th>\n",
       "      <td>0</td>\n",
       "      <td>Works well but too tied to Amazon.</td>\n",
       "      <td>works well but too tied to amazon</td>\n",
       "    </tr>\n",
       "    <tr>\n",
       "      <th>28319</th>\n",
       "      <td>1</td>\n",
       "      <td>Works well, but Needs Better Parental Options</td>\n",
       "      <td>works well but needs better parental options</td>\n",
       "    </tr>\n",
       "    <tr>\n",
       "      <th>28320</th>\n",
       "      <td>1</td>\n",
       "      <td>Worlks as advertised</td>\n",
       "      <td>worlks as advertised</td>\n",
       "    </tr>\n",
       "    <tr>\n",
       "      <th>28321</th>\n",
       "      <td>1</td>\n",
       "      <td>Worth every dime!!</td>\n",
       "      <td>worth every dime</td>\n",
       "    </tr>\n",
       "    <tr>\n",
       "      <th>28322</th>\n",
       "      <td>1</td>\n",
       "      <td>worth having the product to kids</td>\n",
       "      <td>worth having the product to kids</td>\n",
       "    </tr>\n",
       "    <tr>\n",
       "      <th>28323</th>\n",
       "      <td>1</td>\n",
       "      <td>Worth it !!</td>\n",
       "      <td>worth it</td>\n",
       "    </tr>\n",
       "    <tr>\n",
       "      <th>28324</th>\n",
       "      <td>1</td>\n",
       "      <td>Would buy again</td>\n",
       "      <td>would buy again</td>\n",
       "    </tr>\n",
       "    <tr>\n",
       "      <th>28325</th>\n",
       "      <td>1</td>\n",
       "      <td>wow, over the top happy</td>\n",
       "      <td>wow over the top happy</td>\n",
       "    </tr>\n",
       "    <tr>\n",
       "      <th>28326</th>\n",
       "      <td>1</td>\n",
       "      <td>Wow!</td>\n",
       "      <td>wow</td>\n",
       "    </tr>\n",
       "    <tr>\n",
       "      <th>28327</th>\n",
       "      <td>1</td>\n",
       "      <td>Xmas gift</td>\n",
       "      <td>xmas gift</td>\n",
       "    </tr>\n",
       "    <tr>\n",
       "      <th>28328</th>\n",
       "      <td>1</td>\n",
       "      <td>yes it is a great tablet.</td>\n",
       "      <td>yes it is a great tablet</td>\n",
       "    </tr>\n",
       "    <tr>\n",
       "      <th>28329</th>\n",
       "      <td>1</td>\n",
       "      <td>You get a lot for the price!</td>\n",
       "      <td>you get a lot for the price</td>\n",
       "    </tr>\n",
       "    <tr>\n",
       "      <th>28330</th>\n",
       "      <td>1</td>\n",
       "      <td>You get the entire World for less than $100!</td>\n",
       "      <td>you get the entire world for less than</td>\n",
       "    </tr>\n",
       "    <tr>\n",
       "      <th>28331</th>\n",
       "      <td>1</td>\n",
       "      <td>You get what your paying for</td>\n",
       "      <td>you get what your paying for</td>\n",
       "    </tr>\n",
       "  </tbody>\n",
       "</table>\n",
       "<p>28332 rows × 3 columns</p>\n",
       "</div>"
      ],
      "text/plain": [
       "       rating                                              title  \\\n",
       "0           0  ... 3 of them and one of the item is bad quali...   \n",
       "1           1  ... always the less expensive way to go for pr...   \n",
       "2           1  ... are not Duracell but for the price i am ha...   \n",
       "3           1  ... as well as name brand batteries at a much ...   \n",
       "4           1  ... batteries are very long lasting the price ...   \n",
       "5           1  ... batteries for Christmas and the AmazonBasi...   \n",
       "6           1  ... batteries have ordered them in the past be...   \n",
       "7           1  ... batteries that last quite a while then the...   \n",
       "8           0  ... do not hold the amount of high power juice...   \n",
       "9           1  ... done well by me appear to have a good shel...   \n",
       "10          1  ... find amazon basics batteries to be equal i...   \n",
       "11          0  ... first started getting the Amazon basic bat...   \n",
       "12          1  ... for my fish tank's light at night and work...   \n",
       "13          1  ... got em so I can't really comment on how go...   \n",
       "14          1  ... have many things that need aa battery they...   \n",
       "15          1  ... I was able to find on Amazon for a great p...   \n",
       "16          0  ... know if I would buy thus brand again seems...   \n",
       "17          0  ... last anywhere near as long as Duracel in t...   \n",
       "18          1  ... last as long as the brand name but are goo...   \n",
       "19          0  ... my Christmas gifts the month of (december)...   \n",
       "20          1  ... my second order and they seem to work as g...   \n",
       "21          1  ... my second purchase of amazon batteries and...   \n",
       "22          1  ... my Xbox one controllers and none of them e...   \n",
       "23          1  ... not last as long as other name brand names...   \n",
       "24          0  ... not last long at all very cheap batteries ...   \n",
       "25          1  ... not used yet but a battery is a battery go...   \n",
       "26          1  ... of batteries that were not as strong or we...   \n",
       "27          1  ... ordered these a few times cause we've been...   \n",
       "28          1  ... THEM BUT HOPEFULLY ALL OF THEM WILL REMAIN...   \n",
       "29          0  ... there to fit the light when they arrived a...   \n",
       "...       ...                                                ...   \n",
       "28302       1                                        Works great   \n",
       "28303       1                                        Works great   \n",
       "28304       1                                        works great   \n",
       "28305       1                                        Works great   \n",
       "28306       1                                        Works great   \n",
       "28307       1                                        Works great   \n",
       "28308       1                            Works great for classes   \n",
       "28309       1                        Works great for my 6 yr old   \n",
       "28310       1                             works great for my dad   \n",
       "28311       1                       Works great for what I need.   \n",
       "28312       1                              works great, but.....   \n",
       "28313       1                                       works great.   \n",
       "28314       1                                        works grood   \n",
       "28315       1                Works pretty good for a great price   \n",
       "28316       1   works very well. much better than the old \"fire\"   \n",
       "28317       1                                         works well   \n",
       "28318       0                 Works well but too tied to Amazon.   \n",
       "28319       1      Works well, but Needs Better Parental Options   \n",
       "28320       1                               Worlks as advertised   \n",
       "28321       1                                 Worth every dime!!   \n",
       "28322       1                   worth having the product to kids   \n",
       "28323       1                                        Worth it !!   \n",
       "28324       1                                    Would buy again   \n",
       "28325       1                            wow, over the top happy   \n",
       "28326       1                                               Wow!   \n",
       "28327       1                                          Xmas gift   \n",
       "28328       1                          yes it is a great tablet.   \n",
       "28329       1                       You get a lot for the price!   \n",
       "28330       1       You get the entire World for less than $100!   \n",
       "28331       1                       You get what your paying for   \n",
       "\n",
       "                                                   clean  \n",
       "0      of them and one of the item is bad quality is ...  \n",
       "1      always the less expensive way to go for produc...  \n",
       "2          are not duracell but for the price i am happy  \n",
       "3       as well as name brand batteries at a much better  \n",
       "4      batteries are very long lasting the price is g...  \n",
       "5      batteries for christmas and the amazonbasics c...  \n",
       "6      batteries have ordered them in the past been v...  \n",
       "7      batteries that last quite a while then these a...  \n",
       "8      do not hold the amount of high power juice lik...  \n",
       "9       done well by me appear to have a good shelf life  \n",
       "10     find amazon basics batteries to be equal if no...  \n",
       "11     first started getting the amazon basic batteri...  \n",
       "12     for my fish tank s light at night and works gr...  \n",
       "13     got em so i can t really comment on how good t...  \n",
       "14     have many things that need aa battery they are...  \n",
       "15     i was able to find on amazon for a great price...  \n",
       "16     know if i would buy thus brand again seems lik...  \n",
       "17     last anywhere near as long as duracel in thing...  \n",
       "18     last as long as the brand name but are good en...  \n",
       "19     my christmas gifts the month of december only ...  \n",
       "20     my second order and they seem to work as good ...  \n",
       "21     my second purchase of amazon batteries and the...  \n",
       "22     my xbox one controllers and none of them explo...  \n",
       "23     not last as long as other name brand names dis...  \n",
       "24     not last long at all very cheap batteries no h...  \n",
       "25     not used yet but a battery is a battery good p...  \n",
       "26     of batteries that were not as strong or were p...  \n",
       "27     ordered these a few times cause we ve been so ...  \n",
       "28     them but hopefully all of them will remain in ...  \n",
       "29     there to fit the light when they arrived and n...  \n",
       "...                                                  ...  \n",
       "28302                                        works great  \n",
       "28303                                        works great  \n",
       "28304                                        works great  \n",
       "28305                                        works great  \n",
       "28306                                        works great  \n",
       "28307                                        works great  \n",
       "28308                            works great for classes  \n",
       "28309                          works great for my yr old  \n",
       "28310                             works great for my dad  \n",
       "28311                        works great for what i need  \n",
       "28312                                    works great but  \n",
       "28313                                        works great  \n",
       "28314                                        works grood  \n",
       "28315                works pretty good for a great price  \n",
       "28316      works very well much better than the old fire  \n",
       "28317                                         works well  \n",
       "28318                  works well but too tied to amazon  \n",
       "28319       works well but needs better parental options  \n",
       "28320                               worlks as advertised  \n",
       "28321                                   worth every dime  \n",
       "28322                   worth having the product to kids  \n",
       "28323                                           worth it  \n",
       "28324                                    would buy again  \n",
       "28325                             wow over the top happy  \n",
       "28326                                                wow  \n",
       "28327                                          xmas gift  \n",
       "28328                           yes it is a great tablet  \n",
       "28329                        you get a lot for the price  \n",
       "28330             you get the entire world for less than  \n",
       "28331                       you get what your paying for  \n",
       "\n",
       "[28332 rows x 3 columns]"
      ]
     },
     "execution_count": 13,
     "metadata": {},
     "output_type": "execute_result"
    }
   ],
   "source": [
    "y=[]\n",
    "for x in ns[\"rating\"]:\n",
    "    if x>3:\n",
    "        y.append(1)\n",
    "    else:\n",
    "      y.append(0)\n",
    "ns[\"rating\"]=y\n",
    "ns"
   ]
  },
  {
   "cell_type": "code",
   "execution_count": 14,
   "metadata": {},
   "outputs": [
    {
     "data": {
      "text/plain": [
       "5    19897\n",
       "4     5648\n",
       "3     1206\n",
       "1      965\n",
       "2      616\n",
       "Name: rating, dtype: int64"
      ]
     },
     "execution_count": 14,
     "metadata": {},
     "output_type": "execute_result"
    }
   ],
   "source": [
    "gs['rating'].value_counts()"
   ]
  },
  {
   "cell_type": "code",
   "execution_count": 15,
   "metadata": {},
   "outputs": [
    {
     "name": "stdout",
     "output_type": "stream",
     "text": [
      "Requirement already satisfied: nltk in /home/shwetha/miniconda3/envs/[ml]/lib/python3.7/site-packages (3.4.4)\n",
      "Requirement already satisfied: six in /home/shwetha/miniconda3/envs/[ml]/lib/python3.7/site-packages (from nltk) (1.12.0)\n",
      "Note: you may need to restart the kernel to use updated packages.\n"
     ]
    }
   ],
   "source": [
    "pip install nltk"
   ]
  },
  {
   "cell_type": "markdown",
   "metadata": {},
   "source": [
    "#### NLTK consists of the most common algorithms such as tokenizing, part-of-speech tagging, stemming, sentiment analysis, topic segmentation, and named entity recognition"
   ]
  },
  {
   "cell_type": "code",
   "execution_count": 16,
   "metadata": {},
   "outputs": [],
   "source": [
    "import nltk"
   ]
  },
  {
   "cell_type": "markdown",
   "metadata": {},
   "source": [
    "##### Ipmorting libraries like portstemmer and regexptokenizer for nltk"
   ]
  },
  {
   "cell_type": "code",
   "execution_count": 17,
   "metadata": {},
   "outputs": [
    {
     "name": "stderr",
     "output_type": "stream",
     "text": [
      "[nltk_data] Downloading package punkt to /home/shwetha/nltk_data...\n",
      "[nltk_data]   Package punkt is already up-to-date!\n",
      "[nltk_data] Downloading package stopwords to\n",
      "[nltk_data]     /home/shwetha/nltk_data...\n",
      "[nltk_data]   Package stopwords is already up-to-date!\n"
     ]
    }
   ],
   "source": [
    "nltk.download(\"punkt\")\n",
    "nltk.download(\"stopwords\")\n",
    "from nltk.stem import PorterStemmer \n",
    "from nltk.tokenize import RegexpTokenizer"
   ]
  },
  {
   "cell_type": "code",
   "execution_count": 18,
   "metadata": {},
   "outputs": [],
   "source": [
    "st=PorterStemmer()\n",
    "tk=RegexpTokenizer(r'[a-zA-z\\']+')"
   ]
  },
  {
   "cell_type": "markdown",
   "metadata": {},
   "source": [
    "### Word Tokenization\n",
    "##### It breaks text paragraph into words."
   ]
  },
  {
   "cell_type": "markdown",
   "metadata": {},
   "source": [
    "#### Stemming is a process of linguistic normalization, which reduces words to their word root word or chops off the derivational affixes."
   ]
  },
  {
   "cell_type": "code",
   "execution_count": 19,
   "metadata": {},
   "outputs": [],
   "source": [
    "def tokenize(te):\n",
    "  return[stemmer.stem(word) for word in tk.tokenize(te.lower())]"
   ]
  },
  {
   "cell_type": "markdown",
   "metadata": {},
   "source": [
    "#### Importing sklearn.feature_extraction which converts a collection of raw documents to a matrix of TF-IDF features."
   ]
  },
  {
   "cell_type": "code",
   "execution_count": 22,
   "metadata": {},
   "outputs": [],
   "source": [
    "from sklearn.feature_extraction.text import TfidfVectorizer\n",
    "import pickle"
   ]
  },
  {
   "cell_type": "markdown",
   "metadata": {},
   "source": [
    "#### Removing stopwords such as is, am, are, this, a, an, the, etc."
   ]
  },
  {
   "cell_type": "code",
   "execution_count": 23,
   "metadata": {},
   "outputs": [],
   "source": [
    "v=TfidfVectorizer(stop_words='english',analyzer=\"word\")\n",
    "x=v.fit(gs[\"clean\"])\n",
    "x=\"tb\"\n",
    "pickle.dump(v,open(\"tb\",\"wb\"))\n",
    "x=v.transform(gs[\"clean\"])\n",
    "xtest=v.transform(ks[\"clean\"])"
   ]
  },
  {
   "cell_type": "markdown",
   "metadata": {},
   "source": [
    "# Testing and Training "
   ]
  },
  {
   "cell_type": "code",
   "execution_count": 25,
   "metadata": {},
   "outputs": [
    {
     "data": {
      "text/plain": [
       "(20000, 2769)"
      ]
     },
     "execution_count": 25,
     "metadata": {},
     "output_type": "execute_result"
    }
   ],
   "source": [
    "xtest.shape"
   ]
  },
  {
   "cell_type": "code",
   "execution_count": 26,
   "metadata": {},
   "outputs": [
    {
     "data": {
      "text/plain": [
       "(28332,)"
      ]
     },
     "execution_count": 26,
     "metadata": {},
     "output_type": "execute_result"
    }
   ],
   "source": [
    "y=gs[\"rating\"]\n",
    "y.shape"
   ]
  },
  {
   "cell_type": "code",
   "execution_count": 27,
   "metadata": {},
   "outputs": [],
   "source": [
    "xtrain=x\n",
    "ytrain=y"
   ]
  },
  {
   "cell_type": "code",
   "execution_count": 28,
   "metadata": {},
   "outputs": [
    {
     "data": {
      "text/plain": [
       "(20000,)"
      ]
     },
     "execution_count": 28,
     "metadata": {},
     "output_type": "execute_result"
    }
   ],
   "source": [
    "ytrain.shape\n",
    "ytest.shape"
   ]
  },
  {
   "cell_type": "markdown",
   "metadata": {},
   "source": [
    "### Fitting the model using Random forest classifier since this classifier gives the best accuracy"
   ]
  },
  {
   "cell_type": "code",
   "execution_count": 29,
   "metadata": {},
   "outputs": [
    {
     "name": "stderr",
     "output_type": "stream",
     "text": [
      "/home/shwetha/miniconda3/envs/[ml]/lib/python3.7/site-packages/sklearn/ensemble/forest.py:245: FutureWarning: The default value of n_estimators will change from 10 in version 0.20 to 100 in 0.22.\n",
      "  \"10 in version 0.20 to 100 in 0.22.\", FutureWarning)\n"
     ]
    },
    {
     "data": {
      "text/plain": [
       "RandomForestClassifier(bootstrap=True, class_weight=None, criterion='gini',\n",
       "                       max_depth=None, max_features='auto', max_leaf_nodes=None,\n",
       "                       min_impurity_decrease=0.0, min_impurity_split=None,\n",
       "                       min_samples_leaf=1, min_samples_split=2,\n",
       "                       min_weight_fraction_leaf=0.0, n_estimators=10,\n",
       "                       n_jobs=None, oob_score=False, random_state=None,\n",
       "                       verbose=0, warm_start=False)"
      ]
     },
     "execution_count": 29,
     "metadata": {},
     "output_type": "execute_result"
    }
   ],
   "source": [
    "from sklearn.ensemble import RandomForestClassifier\n",
    "clf=RandomForestClassifier()\n",
    "clf.fit(xtrain, ytrain)"
   ]
  },
  {
   "cell_type": "markdown",
   "metadata": {},
   "source": [
    "### Checking the accurcy score of the model"
   ]
  },
  {
   "cell_type": "code",
   "execution_count": 64,
   "metadata": {},
   "outputs": [],
   "source": [
    "from sklearn.metrics import roc_auc_score"
   ]
  },
  {
   "cell_type": "code",
   "execution_count": 65,
   "metadata": {},
   "outputs": [
    {
     "data": {
      "text/plain": [
       "(20000,)"
      ]
     },
     "execution_count": 65,
     "metadata": {},
     "output_type": "execute_result"
    }
   ],
   "source": [
    "y=clf.predict_proba(xtest)[:,1]\n",
    "y.shape"
   ]
  },
  {
   "cell_type": "code",
   "execution_count": 66,
   "metadata": {},
   "outputs": [
    {
     "data": {
      "text/plain": [
       "0.561904864390129"
      ]
     },
     "execution_count": 66,
     "metadata": {},
     "output_type": "execute_result"
    }
   ],
   "source": [
    "roc_auc_score(ytest,y)"
   ]
  },
  {
   "cell_type": "markdown",
   "metadata": {},
   "source": [
    "#### The following code where data cleaning and tokenization is done can be used to check the model"
   ]
  },
  {
   "cell_type": "code",
   "execution_count": 67,
   "metadata": {},
   "outputs": [
    {
     "name": "stdout",
     "output_type": "stream",
     "text": [
      "negative\n"
     ]
    }
   ],
   "source": [
    "s=np.array([\"it is not good product\"])\n",
    "def clean(string):\n",
    "  words=preprocess_string(string,filters)\n",
    "  return \" \".join(word.lower() for word in words)\n",
    "clean(s)\n",
    "def tokenize(te):\n",
    "  return[stemmer.stem(word) for word in tk.tokenize(te.lower())]\n",
    "g=v.transform(s)\n",
    "r=clf.predict(g)\n",
    "if r==1:\n",
    "    print(\"positive\")\n",
    "else:\n",
    "    print(\"negative\")"
   ]
  },
  {
   "cell_type": "markdown",
   "metadata": {},
   "source": [
    "### The randomforest classifier is saved and dumped in a file which can be accessed for API"
   ]
  },
  {
   "cell_type": "code",
   "execution_count": 68,
   "metadata": {},
   "outputs": [],
   "source": [
    "rf=\"file\""
   ]
  },
  {
   "cell_type": "code",
   "execution_count": 69,
   "metadata": {},
   "outputs": [],
   "source": [
    "pickle.dump(clf,open(\"rf\",\"wb\"))"
   ]
  },
  {
   "cell_type": "code",
   "execution_count": null,
   "metadata": {},
   "outputs": [],
   "source": []
  }
 ],
 "metadata": {
  "kernelspec": {
   "display_name": "Python 3",
   "language": "python",
   "name": "python3"
  },
  "language_info": {
   "codemirror_mode": {
    "name": "ipython",
    "version": 3
   },
   "file_extension": ".py",
   "mimetype": "text/x-python",
   "name": "python",
   "nbconvert_exporter": "python",
   "pygments_lexer": "ipython3",
   "version": "3.7.3"
  }
 },
 "nbformat": 4,
 "nbformat_minor": 2
}
